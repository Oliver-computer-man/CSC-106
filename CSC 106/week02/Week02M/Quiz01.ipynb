{
 "cells": [
  {
   "cell_type": "markdown",
   "id": "de8e705f",
   "metadata": {},
   "source": [
    "# Question 1"
   ]
  },
  {
   "cell_type": "raw",
   "id": "688219c6",
   "metadata": {},
   "source": [
    "\n",
    "\n",
    "\n",
    " What is the output of the individual cells. (1 point each)\n",
    "\n",
    "If there is an error on any of the cells, report the error. (1 point each)\n",
    "\n",
    "Propose a fix for the error. (1 point each)\n"
   ]
  },
  {
   "cell_type": "markdown",
   "id": "0f0b031d",
   "metadata": {},
   "source": [
    "GitHub link: https://github.com/Oliver-computer-man"
   ]
  },
  {
   "cell_type": "markdown",
   "id": "04be2fc5",
   "metadata": {},
   "source": [
    "# CELL 1 :"
   ]
  },
  {
   "cell_type": "code",
   "execution_count": 7,
   "id": "69c032e8",
   "metadata": {},
   "outputs": [
    {
     "ename": "SyntaxError",
     "evalue": "unterminated string literal (detected at line 1) (4095473356.py, line 1)",
     "output_type": "error",
     "traceback": [
      "\u001b[0;36m  Cell \u001b[0;32mIn[7], line 1\u001b[0;36m\u001b[0m\n\u001b[0;31m    print(Hallo Class\")\u001b[0m\n\u001b[0m                     ^\u001b[0m\n\u001b[0;31mSyntaxError\u001b[0m\u001b[0;31m:\u001b[0m unterminated string literal (detected at line 1)\n"
     ]
    }
   ],
   "source": [
    "print(Hallo Class\")\n",
    "      "
   ]
  },
  {
   "cell_type": "code",
   "execution_count": 6,
   "id": "2bbe22ac",
   "metadata": {},
   "outputs": [
    {
     "data": {
      "text/plain": [
       "'Hallo Class'"
      ]
     },
     "execution_count": 6,
     "metadata": {},
     "output_type": "execute_result"
    }
   ],
   "source": [
    "\"Hallo Class\""
   ]
  },
  {
   "cell_type": "code",
   "execution_count": 5,
   "id": "5f1d4004",
   "metadata": {},
   "outputs": [
    {
     "name": "stdout",
     "output_type": "stream",
     "text": [
      "Hello Class\n"
     ]
    }
   ],
   "source": [
    "print(\"Hello Class\")"
   ]
  },
  {
   "cell_type": "code",
   "execution_count": 4,
   "id": "046373b9",
   "metadata": {},
   "outputs": [
    {
     "data": {
      "text/plain": [
       "'hello world'"
      ]
     },
     "execution_count": 4,
     "metadata": {},
     "output_type": "execute_result"
    }
   ],
   "source": [
    "'hello world'"
   ]
  },
  {
   "cell_type": "markdown",
   "id": "3c0bff88",
   "metadata": {},
   "source": [
    "# CELL 2 :\n"
   ]
  },
  {
   "cell_type": "code",
   "execution_count": 12,
   "id": "9596ddbc",
   "metadata": {},
   "outputs": [
    {
     "ename": "SyntaxError",
     "evalue": "unterminated string literal (detected at line 1) (1763557567.py, line 1)",
     "output_type": "error",
     "traceback": [
      "\u001b[0;36m  Cell \u001b[0;32mIn[12], line 1\u001b[0;36m\u001b[0m\n\u001b[0;31m    print(\"Hallo Class)\u001b[0m\n\u001b[0m          ^\u001b[0m\n\u001b[0;31mSyntaxError\u001b[0m\u001b[0;31m:\u001b[0m unterminated string literal (detected at line 1)\n"
     ]
    }
   ],
   "source": [
    "print(\"Hallo Class)\n",
    "\n"
   ]
  },
  {
   "cell_type": "code",
   "execution_count": 3,
   "id": "6c43009b",
   "metadata": {},
   "outputs": [
    {
     "name": "stdout",
     "output_type": "stream",
     "text": [
      "Hello Class\n"
     ]
    }
   ],
   "source": [
    "print(\"Hello Class\")\n",
    "      "
   ]
  },
  {
   "cell_type": "code",
   "execution_count": 2,
   "id": "26ffcf3a",
   "metadata": {},
   "outputs": [
    {
     "name": "stdout",
     "output_type": "stream",
     "text": [
      "Hello Class\n"
     ]
    }
   ],
   "source": [
    "print('Hello Class')"
   ]
  },
  {
   "cell_type": "markdown",
   "id": "4cd20761",
   "metadata": {},
   "source": [
    "# CELL 3 : "
   ]
  },
  {
   "cell_type": "code",
   "execution_count": 10,
   "id": "6511c981",
   "metadata": {},
   "outputs": [
    {
     "name": "stdout",
     "output_type": "stream",
     "text": [
      "Helo Class\n"
     ]
    }
   ],
   "source": [
    "print(\"Helo Class\")"
   ]
  },
  {
   "cell_type": "code",
   "execution_count": 11,
   "id": "3280dd38",
   "metadata": {},
   "outputs": [
    {
     "name": "stdout",
     "output_type": "stream",
     "text": [
      "Hello Class\n"
     ]
    }
   ],
   "source": [
    "print(\"Hello Class\")"
   ]
  },
  {
   "cell_type": "markdown",
   "id": "79acb486",
   "metadata": {},
   "source": [
    "# CELL 4 :"
   ]
  },
  {
   "cell_type": "code",
   "execution_count": 9,
   "id": "2eee7822",
   "metadata": {},
   "outputs": [
    {
     "ename": "SyntaxError",
     "evalue": "unterminated string literal (detected at line 1) (1449310505.py, line 1)",
     "output_type": "error",
     "traceback": [
      "\u001b[0;36m  Cell \u001b[0;32mIn[9], line 1\u001b[0;36m\u001b[0m\n\u001b[0;31m    print(Hallo Class')\u001b[0m\n\u001b[0m                     ^\u001b[0m\n\u001b[0;31mSyntaxError\u001b[0m\u001b[0;31m:\u001b[0m unterminated string literal (detected at line 1)\n"
     ]
    }
   ],
   "source": [
    "print(Hallo Class')"
   ]
  },
  {
   "cell_type": "code",
   "execution_count": 13,
   "id": "ea1b4c79",
   "metadata": {},
   "outputs": [
    {
     "name": "stdout",
     "output_type": "stream",
     "text": [
      "Hello Class\n"
     ]
    }
   ],
   "source": [
    "print(\"Hello Class\")"
   ]
  },
  {
   "cell_type": "markdown",
   "id": "7206b1f2",
   "metadata": {},
   "source": [
    "# CELL 5:"
   ]
  },
  {
   "cell_type": "code",
   "execution_count": 15,
   "id": "a61e5088",
   "metadata": {},
   "outputs": [
    {
     "ename": "SyntaxError",
     "evalue": "unterminated string literal (detected at line 1) (1535394561.py, line 1)",
     "output_type": "error",
     "traceback": [
      "\u001b[0;36m  Cell \u001b[0;32mIn[15], line 1\u001b[0;36m\u001b[0m\n\u001b[0;31m    print('Hallo Class)\u001b[0m\n\u001b[0m          ^\u001b[0m\n\u001b[0;31mSyntaxError\u001b[0m\u001b[0;31m:\u001b[0m unterminated string literal (detected at line 1)\n"
     ]
    }
   ],
   "source": [
    "print('Hallo Class)"
   ]
  },
  {
   "cell_type": "code",
   "execution_count": 16,
   "id": "98d020ae",
   "metadata": {},
   "outputs": [
    {
     "name": "stdout",
     "output_type": "stream",
     "text": [
      "Hello Class\n"
     ]
    }
   ],
   "source": [
    "print(\"Hello Class\")"
   ]
  },
  {
   "cell_type": "markdown",
   "id": "90718b1e",
   "metadata": {},
   "source": [
    "# CELL 6:"
   ]
  },
  {
   "cell_type": "code",
   "execution_count": 17,
   "id": "5f14be58",
   "metadata": {},
   "outputs": [
    {
     "name": "stdout",
     "output_type": "stream",
     "text": [
      "Hello Clas\n"
     ]
    }
   ],
   "source": [
    "print('Hello Clas')"
   ]
  },
  {
   "cell_type": "code",
   "execution_count": 18,
   "id": "f58a472f",
   "metadata": {},
   "outputs": [
    {
     "name": "stdout",
     "output_type": "stream",
     "text": [
      "Hello Class\n"
     ]
    }
   ],
   "source": [
    "print(\"Hello Class\")"
   ]
  },
  {
   "cell_type": "markdown",
   "id": "b9896609",
   "metadata": {},
   "source": [
    "# CELL 7:"
   ]
  },
  {
   "cell_type": "code",
   "execution_count": 19,
   "id": "77728d64",
   "metadata": {},
   "outputs": [
    {
     "ename": "SyntaxError",
     "evalue": "unterminated string literal (detected at line 1) (337988708.py, line 1)",
     "output_type": "error",
     "traceback": [
      "\u001b[0;36m  Cell \u001b[0;32mIn[19], line 1\u001b[0;36m\u001b[0m\n\u001b[0;31m    print(\"Hello Class')\u001b[0m\n\u001b[0m          ^\u001b[0m\n\u001b[0;31mSyntaxError\u001b[0m\u001b[0;31m:\u001b[0m unterminated string literal (detected at line 1)\n"
     ]
    }
   ],
   "source": [
    "print(\"Hello Class')"
   ]
  },
  {
   "cell_type": "code",
   "execution_count": 20,
   "id": "a0eb76d2",
   "metadata": {},
   "outputs": [
    {
     "name": "stdout",
     "output_type": "stream",
     "text": [
      "Hello Class\n"
     ]
    }
   ],
   "source": [
    "print(\"Hello Class\")"
   ]
  },
  {
   "cell_type": "markdown",
   "id": "e1c4b974",
   "metadata": {},
   "source": [
    "# CELL 8:"
   ]
  },
  {
   "cell_type": "code",
   "execution_count": 21,
   "id": "fd2787ed",
   "metadata": {},
   "outputs": [
    {
     "ename": "SyntaxError",
     "evalue": "unterminated string literal (detected at line 1) (1961561829.py, line 1)",
     "output_type": "error",
     "traceback": [
      "\u001b[0;36m  Cell \u001b[0;32mIn[21], line 1\u001b[0;36m\u001b[0m\n\u001b[0;31m    print('Hello Class\")\u001b[0m\n\u001b[0m          ^\u001b[0m\n\u001b[0;31mSyntaxError\u001b[0m\u001b[0;31m:\u001b[0m unterminated string literal (detected at line 1)\n"
     ]
    }
   ],
   "source": [
    "print('Hello Class\") "
   ]
  },
  {
   "cell_type": "code",
   "execution_count": 22,
   "id": "f2820f96",
   "metadata": {},
   "outputs": [
    {
     "name": "stdout",
     "output_type": "stream",
     "text": [
      "Hello Class\n"
     ]
    }
   ],
   "source": [
    "print(\"Hello Class\")"
   ]
  },
  {
   "cell_type": "markdown",
   "id": "3a6ae12d",
   "metadata": {},
   "source": [
    "# CELL 9:"
   ]
  },
  {
   "cell_type": "code",
   "execution_count": 23,
   "id": "6a25d18d",
   "metadata": {},
   "outputs": [
    {
     "name": "stdout",
     "output_type": "stream",
     "text": [
      "Hello' Class\n"
     ]
    }
   ],
   "source": [
    "print(\"Hello' Class\")"
   ]
  },
  {
   "cell_type": "code",
   "execution_count": 24,
   "id": "ead87f37",
   "metadata": {},
   "outputs": [
    {
     "name": "stdout",
     "output_type": "stream",
     "text": [
      "Hello Class\n"
     ]
    }
   ],
   "source": [
    "print(\"Hello Class\")"
   ]
  },
  {
   "cell_type": "markdown",
   "id": "0f523597",
   "metadata": {},
   "source": [
    "# CELL 10:"
   ]
  },
  {
   "cell_type": "code",
   "execution_count": 25,
   "id": "415dfd10",
   "metadata": {},
   "outputs": [
    {
     "ename": "SyntaxError",
     "evalue": "unterminated string literal (detected at line 1) (344880365.py, line 1)",
     "output_type": "error",
     "traceback": [
      "\u001b[0;36m  Cell \u001b[0;32mIn[25], line 1\u001b[0;36m\u001b[0m\n\u001b[0;31m    print('Hello Class'\")\u001b[0m\n\u001b[0m                       ^\u001b[0m\n\u001b[0;31mSyntaxError\u001b[0m\u001b[0;31m:\u001b[0m unterminated string literal (detected at line 1)\n"
     ]
    }
   ],
   "source": [
    "print('Hello Class'\") "
   ]
  },
  {
   "cell_type": "code",
   "execution_count": 26,
   "id": "6719081a",
   "metadata": {},
   "outputs": [
    {
     "name": "stdout",
     "output_type": "stream",
     "text": [
      "Hello Class\n"
     ]
    }
   ],
   "source": [
    "print(\"Hello Class\")"
   ]
  },
  {
   "cell_type": "code",
   "execution_count": null,
   "id": "bfcf9c04",
   "metadata": {},
   "outputs": [],
   "source": []
  }
 ],
 "metadata": {
  "kernelspec": {
   "display_name": "Python 3 (ipykernel)",
   "language": "python",
   "name": "python3"
  },
  "language_info": {
   "codemirror_mode": {
    "name": "ipython",
    "version": 3
   },
   "file_extension": ".py",
   "mimetype": "text/x-python",
   "name": "python",
   "nbconvert_exporter": "python",
   "pygments_lexer": "ipython3",
   "version": "3.12.3"
  }
 },
 "nbformat": 4,
 "nbformat_minor": 5
}
